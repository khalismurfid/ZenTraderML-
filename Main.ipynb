{
 "cells": [
  {
   "cell_type": "code",
   "execution_count": 12,
   "id": "b9630e78-c8f4-4868-b413-718ce2c767bb",
   "metadata": {},
   "outputs": [
    {
     "name": "stderr",
     "output_type": "stream",
     "text": [
      "[*********************100%%**********************]  1 of 1 completed\n"
     ]
    },
    {
     "name": "stdout",
     "output_type": "stream",
     "text": [
      "\n",
      "Running LongOnlyMACD Strategy:\n",
      "0.9408724084312676\n",
      "\n",
      "Running LongOnlyMomentum Strategy:\n",
      "0.8789514159979078\n",
      "\n",
      "Running StochasticOscillator Strategy:\n",
      "1.0202483232252038\n"
     ]
    }
   ],
   "source": [
    "# Cell 1: Import Libraries and Custom Modules\n",
    "import yfinance as yf\n",
    "import data_utils\n",
    "import strategies\n",
    "import backtest\n",
    "\n",
    "# Cell 2: Set Parameters and Prepare Data\n",
    "# Specify the ticker and start date\n",
    "ticker = \"BBCA.JK\"\n",
    "start_date = \"2020-01-01\"\n",
    "\n",
    "# Prepare data using a utility function\n",
    "# The prepare_data function should be defined in the data_utils module\n",
    "real_data = data_utils.prepare_data(ticker, start_date)\n",
    "\n",
    "# Cell 3: Run Backtests\n",
    "if real_data is not None:\n",
    "    # Define the strategies to test\n",
    "    strategies_to_test = [\n",
    "        {\n",
    "            \"name\": \"LongOnlyMACD\",\n",
    "            \"class\": strategies.LongOnlyMACD,\n",
    "            \"params\": {\"window_slow\": 26, \"window_fast\": 12, \"window_sign\": 9, \"symbol\": ticker}\n",
    "        },\n",
    "        {\n",
    "            \"name\": \"LongOnlyMomentum\",\n",
    "            \"class\": strategies.LongOnlyMomentum,\n",
    "            \"params\": {\"window\": 20, \"symbol\": ticker}\n",
    "        },\n",
    "        {\n",
    "            \"name\": \"StochasticOscillator\",\n",
    "            \"class\": strategies.StochasticOscillatorStrategy,\n",
    "            \"params\": {\n",
    "                \"k_window\": 80,\n",
    "                \"smooth_k\": 2,\n",
    "                \"smooth_d\": 2,\n",
    "                \"threshold\": 10,\n",
    "                \"symbol\": ticker\n",
    "            }\n",
    "        }\n",
    "    ]\n",
    "\n",
    "    # Run each strategy\n",
    "    for strategy_config in strategies_to_test:\n",
    "        print(f\"\\nRunning {strategy_config['name']} Strategy:\")\n",
    "        \n",
    "        # Run the backtest with printing enabled\n",
    "        perf, outperf, results = backtest.run_backtest(\n",
    "            strategy_class=strategy_config[\"class\"],\n",
    "            data=real_data,\n",
    "            print_results=False,  # Enable printing of results\n",
    "            **strategy_config[\"params\"]\n",
    "        )\n",
    "        \n",
    "        # Optionally, you can print the metrics here\n",
    "        print(perf)\n",
    "else:\n",
    "    print(\"No data available for backtesting.\")\n"
   ]
  },
  {
   "cell_type": "code",
   "execution_count": 2,
   "id": "415eff6c-db18-4797-b0c3-2d5f2761ac9f",
   "metadata": {},
   "outputs": [
    {
     "data": {
      "text/plain": [
       "<module 'backtest' from 'C:\\\\Users\\\\Intel X Nvidia RTX\\\\ZenTraderML\\\\ZenTraderML-\\\\backtest.py'>"
      ]
     },
     "execution_count": 2,
     "metadata": {},
     "output_type": "execute_result"
    }
   ],
   "source": [
    "backtest"
   ]
  }
 ],
 "metadata": {
  "kernelspec": {
   "display_name": "Python 3 (ipykernel)",
   "language": "python",
   "name": "python3"
  },
  "language_info": {
   "codemirror_mode": {
    "name": "ipython",
    "version": 3
   },
   "file_extension": ".py",
   "mimetype": "text/x-python",
   "name": "python",
   "nbconvert_exporter": "python",
   "pygments_lexer": "ipython3",
   "version": "3.10.14"
  }
 },
 "nbformat": 4,
 "nbformat_minor": 5
}
